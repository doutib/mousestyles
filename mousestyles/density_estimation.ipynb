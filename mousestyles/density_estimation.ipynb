{
 "cells": [
  {
   "cell_type": "code",
   "execution_count": 1,
   "metadata": {
    "collapsed": false,
    "scrolled": true
   },
   "outputs": [],
   "source": [
    "from mousestyles.data import load_movement\n",
    "import numpy as np\n",
    "import pandas as pd\n",
    "from math import sqrt\n",
    "import matplotlib.pyplot as plt"
   ]
  },
  {
   "cell_type": "markdown",
   "metadata": {},
   "source": [
    "# Extract distances\n",
    "Here are a bunch of functions for extracting distances with a given delta t \n",
    "(step) which corresponds to the interval of time used for the data \n",
    "to be aggregated.\n",
    "## Strain, mouse, day\n",
    "Extract the distance distribution for a particular mouse of a given strain \n",
    "at a particular day."
   ]
  },
  {
   "cell_type": "code",
   "execution_count": 2,
   "metadata": {
    "collapsed": true
   },
   "outputs": [],
   "source": [
    "def extract_distances(strain, mouse, day, step=1e2):\n",
    "    \"\"\"\n",
    "    Return a numpy array object of project movement data\n",
    "    for the specified combination of strain, mouse and day.\n",
    "\n",
    "    The array contains the distance between two different times\n",
    "    taken with the same time interval\n",
    "\n",
    "    Parameters\n",
    "    ----------\n",
    "    strain: int\n",
    "        nonnegative integer indicating the strain number\n",
    "    mouse: int\n",
    "        nonnegative integer indicating the mouse number\n",
    "    day: int\n",
    "        nonnegative integer indicating the day number\n",
    "    step: float\n",
    "        positive float defining the time between two observations\n",
    "\n",
    "    Returns\n",
    "    -------\n",
    "    movement : numpy array\n",
    "    \"\"\"\n",
    "    movement = load_movement(strain, mouse, day)\n",
    "    # Compute distance between samples\n",
    "    dist = np.empty((movement.shape[0], 2))\n",
    "    dist[0,0] = sqrt(movement.iloc[0, 1]*movement.iloc[0, 1]+\n",
    "                     movement.iloc[0, 2]*movement.iloc[0, 2])\n",
    "    for i in range(1, len(dist[:, 0])):\n",
    "        x1 = movement.iloc[i-1, 1]\n",
    "        y1 = movement.iloc[i-1, 2]\n",
    "        x2 = movement.iloc[i, 1]\n",
    "        y2 = movement.iloc[i, 2]\n",
    "        x = x2 - x1\n",
    "        y = y2 - y1\n",
    "        d = sqrt(x*x+y*y)\n",
    "        dist[i,0] = d\n",
    "    dist[:, 1] = np.array(movement['t'])\n",
    "    dist[:, 1] = dist[:, 1] - dist[0, 1]\n",
    "    tf = dist[dist.shape[0]-1, 1]\n",
    "    # Aggregate distances according to step\n",
    "    aggregate = np.zeros(int(tf/step))\n",
    "    j = 0\n",
    "    for i in range(len(aggregate)):\n",
    "        while dist[j, 1]<i*step:\n",
    "            aggregate[i] = aggregate[i] + dist[j, 0]\n",
    "            j = j+1\n",
    "    return(aggregate)"
   ]
  },
  {
   "cell_type": "code",
   "execution_count": 3,
   "metadata": {
    "collapsed": false
   },
   "outputs": [],
   "source": [
    "e = extract_distances(1, 1, 1, step=1e2)"
   ]
  },
  {
   "cell_type": "code",
   "execution_count": 4,
   "metadata": {
    "collapsed": false
   },
   "outputs": [
    {
     "data": {
      "image/png": "[encoded data removed]",
      "text/plain": [
       "<matplotlib.figure.Figure at 0x10c5913d0>"
      ]
     },
     "metadata": {},
     "output_type": "display_data"
    }
   ],
   "source": [
    "%matplotlib inline\n",
    "plt.style.use('ggplot')\n",
    "plt.figure()\n",
    "plt.hist(e[e>0],30,normed=True)\n",
    "plt.title('Distribution of positive distances for a mouse during one day\\n')\n",
    "plt.xlabel(\"Distance (cm)\")\n",
    "plt.ylabel(\"Density\")\n",
    "plt.show()"
   ]
  },
  {
   "cell_type": "markdown",
   "metadata": {},
   "source": [
    "## Strain, mouse\n",
    "Extract the distance distribution for a particular mouse of a given\n",
    "strain for all days."
   ]
  },
  {
   "cell_type": "code",
   "execution_count": 3,
   "metadata": {
    "collapsed": false
   },
   "outputs": [],
   "source": [
    "def extract_distances_bymouse(strain, mouse, step=1e2, verbose=False):\n",
    "    \"\"\"\n",
    "    Aggregates extract_distances for all days.\n",
    "\n",
    "    Parameters\n",
    "    ----------\n",
    "    strain: int\n",
    "        nonnegative integer indicating the strain number\n",
    "    mouse: int\n",
    "        nonnegative integer indicating the mouse number\n",
    "    step: float\n",
    "        positive float defining the time between two observations\n",
    "\n",
    "    Returns\n",
    "    -------\n",
    "    movement : numpy array\n",
    "\n",
    "    \"\"\"\n",
    "    day = 0\n",
    "    res = []\n",
    "    while True:\n",
    "        try:\n",
    "            res.append(list(extract_distances(strain, mouse, day, step=step)))\n",
    "            day = day + 1\n",
    "            if verbose:\n",
    "                print('day %s done.' % day)\n",
    "        except IOError:\n",
    "            break\n",
    "    res = pd.DataFrame(res)\n",
    "    return(np.array(res.sum(axis=0)))\n",
    "    \n",
    "    "
   ]
  },
  {
   "cell_type": "code",
   "execution_count": 6,
   "metadata": {
    "collapsed": false
   },
   "outputs": [
    {
     "name": "stdout",
     "output_type": "stream",
     "text": [
      "day 1 done.\n",
      "day 2 done.\n",
      "day 3 done.\n",
      "day 4 done.\n",
      "day 5 done.\n",
      "day 6 done.\n",
      "day 7 done.\n",
      "day 8 done.\n",
      "day 9 done.\n",
      "day 10 done.\n",
      "day 11 done.\n",
      "day 12 done.\n"
     ]
    }
   ],
   "source": [
    "e_bymouse = extract_distances_bymouse(1, 1, step=1e2, verbose=True)"
   ]
  },
  {
   "cell_type": "code",
   "execution_count": 7,
   "metadata": {
    "collapsed": false,
    "scrolled": true
   },
   "outputs": [
    {
     "data": {
      "image/png": "[encoded data removed]",
      "text/plain": [
       "<matplotlib.figure.Figure at 0x10c8ae950>"
      ]
     },
     "metadata": {},
     "output_type": "display_data"
    }
   ],
   "source": [
    "%matplotlib inline\n",
    "plt.style.use('ggplot')\n",
    "plt.figure()\n",
    "plt.hist(e_bymouse[e_bymouse>0],30,normed=True)\n",
    "plt.title('Distribution of positive distances for a mouse\\n')\n",
    "plt.xlabel(\"Distance (cm)\")\n",
    "plt.ylabel(\"Density\")\n",
    "plt.show()"
   ]
  },
  {
   "cell_type": "markdown",
   "metadata": {},
   "source": [
    "## Strain\n",
    "Extract the distance distribution for a particular strain for all mice for all days."
   ]
  },
  {
   "cell_type": "code",
   "execution_count": 15,
   "metadata": {
    "collapsed": true
   },
   "outputs": [],
   "source": [
    "def extract_distances_bystrain(strain, step=1e2, verbose=False):\n",
    "    \"\"\"\n",
    "    Aggregates extract_distances_bymouse for all mice in a strain.\n",
    "\n",
    "    Parameters\n",
    "    ----------\n",
    "    strain: int\n",
    "        nonnegative integer indicating the strain number\n",
    "    step: float\n",
    "        positive float defining the time between two observations\n",
    "\n",
    "    Returns\n",
    "    -------\n",
    "    movement : numpy array\n",
    "\n",
    "    \"\"\"\n",
    "    mouse = 0\n",
    "    res = []\n",
    "    e = np.array([0])\n",
    "    while e.size>0:\n",
    "        e = extract_distances_bymouse(strain, mouse, step=step)\n",
    "        res.append(list(e))\n",
    "        mouse = mouse + 1\n",
    "        if verbose:\n",
    "            print('mouse %s done.' % mouse)\n",
    "    res = pd.DataFrame(res)\n",
    "    return(np.array(res.sum(axis=0)))"
   ]
  },
  {
   "cell_type": "code",
   "execution_count": 16,
   "metadata": {
    "collapsed": false
   },
   "outputs": [
    {
     "name": "stdout",
     "output_type": "stream",
     "text": [
      "mouse 1 done.\n",
      "mouse 2 done.\n",
      "mouse 3 done.\n",
      "mouse 4 done.\n",
      "mouse 5 done.\n"
     ]
    }
   ],
   "source": [
    "e_bystrain = extract_distances_bystrain(0, verbose=True)"
   ]
  },
  {
   "cell_type": "code",
   "execution_count": 17,
   "metadata": {
    "collapsed": false
   },
   "outputs": [
    {
     "data": {
      "image/png": "[encoded data removed]",
      "text/plain": [
       "<matplotlib.figure.Figure at 0x10c444c50>"
      ]
     },
     "metadata": {},
     "output_type": "display_data"
    }
   ],
   "source": [
    "%matplotlib inline\n",
    "plt.style.use('ggplot')\n",
    "plt.figure()\n",
    "plt.hist(e_bystrain[e_bystrain>0], 30, normed=True)\n",
    "plt.title('Distribution of positive distances for a strain of mice\\n')\n",
    "plt.xlabel(\"Distance (cm)\")\n",
    "plt.ylabel(\"Density\")\n",
    "plt.show()"
   ]
  },
  {
   "cell_type": "code",
   "execution_count": null,
   "metadata": {
    "collapsed": true
   },
   "outputs": [],
   "source": []
  }
 ],
 "metadata": {
  "kernelspec": {
   "display_name": "Python 2",
   "language": "python",
   "name": "python2"
  },
  "language_info": {
   "codemirror_mode": {
    "name": "ipython",
    "version": 2
   },
   "file_extension": ".py",
   "mimetype": "text/x-python",
   "name": "python",
   "nbconvert_exporter": "python",
   "pygments_lexer": "ipython2",
   "version": "2.7.11"
  }
 },
 "nbformat": 4,
 "nbformat_minor": 0
}
